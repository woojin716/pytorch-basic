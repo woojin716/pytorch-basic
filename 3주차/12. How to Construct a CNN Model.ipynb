{
 "cells": [
  {
   "cell_type": "markdown",
   "metadata": {},
   "source": [
    "# 12. How to Construct a CNN Model"
   ]
  },
  {
   "cell_type": "code",
   "execution_count": 3,
   "metadata": {},
   "outputs": [],
   "source": [
    "import torch\n",
    "import torch.nn as nn\n",
    "import torch.optim as optim"
   ]
  },
  {
   "cell_type": "code",
   "execution_count": 4,
   "metadata": {},
   "outputs": [],
   "source": [
    "import matplotlib.pyplot as plt\n",
    "%matplotlib inline"
   ]
  },
  {
   "cell_type": "markdown",
   "metadata": {},
   "source": [
    "#### 입력에 맞는 출력 형태 나오도록 CNN모델 파라미터 설정해보기\n",
    "#### * O = [(I-F+2P)/S] +1, 출력 채널 수는 필터 갯수와 같음"
   ]
  },
  {
   "cell_type": "markdown",
   "metadata": {},
   "source": [
    "## 3.1 Problem #1"
   ]
  },
  {
   "cell_type": "code",
   "execution_count": 13,
   "metadata": {},
   "outputs": [],
   "source": [
    "X = torch.rand(100, 1, 28, 28) #(n,c,h,w) of input\n",
    "Y = torch.rand(100, 1, 24, 24) #output"
   ]
  },
  {
   "cell_type": "code",
   "execution_count": 14,
   "metadata": {
    "scrolled": true
   },
   "outputs": [
    {
     "data": {
      "text/plain": [
       "torch.Size([100, 1, 24, 24])"
      ]
     },
     "execution_count": 14,
     "metadata": {},
     "output_type": "execute_result"
    }
   ],
   "source": [
    "model = nn.Sequential( #sequential은 순서대로 모델 실행시켜주는 역할\n",
    "    nn.Conv2d(1, 1, 5) #c_in, c_out, filter size(하나의 int로 입력되면 정사각형 필터 5x5)\n",
    ")\n",
    "\n",
    "model(X).shape #== Y.shape"
   ]
  },
  {
   "cell_type": "markdown",
   "metadata": {},
   "source": [
    "## 3.2 Problem #2"
   ]
  },
  {
   "cell_type": "code",
   "execution_count": 15,
   "metadata": {},
   "outputs": [],
   "source": [
    "X = torch.rand(100, 1, 28, 28)\n",
    "Y = torch.rand(100, 3, 28, 28)"
   ]
  },
  {
   "cell_type": "code",
   "execution_count": 16,
   "metadata": {
    "scrolled": true
   },
   "outputs": [
    {
     "data": {
      "text/plain": [
       "torch.Size([100, 3, 28, 28])"
      ]
     },
     "execution_count": 16,
     "metadata": {},
     "output_type": "execute_result"
    }
   ],
   "source": [
    "model = nn.Sequential(\n",
    "    nn.Conv2d(1, 3, 1),\n",
    ")\n",
    "\n",
    "model(X).shape"
   ]
  },
  {
   "cell_type": "markdown",
   "metadata": {},
   "source": [
    "## 3.3 Problem #3"
   ]
  },
  {
   "cell_type": "code",
   "execution_count": 17,
   "metadata": {},
   "outputs": [],
   "source": [
    "X = torch.rand(100, 1, 28, 28)\n",
    "Y = torch.rand(100, 1, 30, 30)"
   ]
  },
  {
   "cell_type": "code",
   "execution_count": 18,
   "metadata": {
    "scrolled": true
   },
   "outputs": [
    {
     "data": {
      "text/plain": [
       "torch.Size([100, 1, 30, 30])"
      ]
     },
     "execution_count": 18,
     "metadata": {},
     "output_type": "execute_result"
    }
   ],
   "source": [
    "model = nn.Sequential(\n",
    "    nn.Conv2d(1, 1, 1, padding=1), #28->30 되려면 p=1이어야함\n",
    ")\n",
    "\n",
    "model(X).shape"
   ]
  },
  {
   "cell_type": "markdown",
   "metadata": {},
   "source": [
    "## 3.4 Problem #4"
   ]
  },
  {
   "cell_type": "code",
   "execution_count": 9,
   "metadata": {},
   "outputs": [],
   "source": [
    "X = torch.rand(100, 1, 28, 28)\n",
    "Y = torch.rand(100, 1, 20, 20)"
   ]
  },
  {
   "cell_type": "code",
   "execution_count": 20,
   "metadata": {
    "scrolled": false
   },
   "outputs": [
    {
     "data": {
      "text/plain": [
       "torch.Size([100, 1, 20, 20])"
      ]
     },
     "execution_count": 20,
     "metadata": {},
     "output_type": "execute_result"
    }
   ],
   "source": [
    "model = nn.Sequential(\n",
    "    nn.Conv2d(1, 1, 5), #(100,1,24,24)\n",
    "    nn.ReLU(),\n",
    "    nn.Conv2d(1, 1, 5), #(100,1,20,20)\n",
    ")\n",
    "\n",
    "model(X).shape"
   ]
  },
  {
   "cell_type": "markdown",
   "metadata": {},
   "source": [
    "## 3.5 Problem #5"
   ]
  },
  {
   "cell_type": "code",
   "execution_count": 21,
   "metadata": {},
   "outputs": [],
   "source": [
    "X = torch.rand(100, 1, 28, 28)\n",
    "Y = torch.rand(100, 1, 22, 22)"
   ]
  },
  {
   "cell_type": "code",
   "execution_count": 24,
   "metadata": {
    "scrolled": true
   },
   "outputs": [
    {
     "data": {
      "text/plain": [
       "torch.Size([100, 10, 22, 22])"
      ]
     },
     "execution_count": 24,
     "metadata": {},
     "output_type": "execute_result"
    }
   ],
   "source": [
    "model = nn.Sequential(\n",
    "    nn.Conv2d(1, 3, 5), #(100,3,24,24)\n",
    "    nn.ReLU(),\n",
    "    nn.Conv2d(3, 10, 3), #(100,10,22,22) #input 채널 수는 직전 출력값의 채널수와 같아야함\n",
    ")\n",
    "\n",
    "model(X).shape"
   ]
  },
  {
   "cell_type": "markdown",
   "metadata": {},
   "source": [
    "## 3.6 Problem #6"
   ]
  },
  {
   "cell_type": "code",
   "execution_count": 25,
   "metadata": {},
   "outputs": [],
   "source": [
    "X = torch.rand(100, 1, 28, 28)\n",
    "Y = torch.rand(100, 32, 26, 26)"
   ]
  },
  {
   "cell_type": "code",
   "execution_count": 27,
   "metadata": {
    "scrolled": false
   },
   "outputs": [
    {
     "data": {
      "text/plain": [
       "torch.Size([100, 32, 26, 26])"
      ]
     },
     "execution_count": 27,
     "metadata": {},
     "output_type": "execute_result"
    }
   ],
   "source": [
    "model = nn.Sequential(\n",
    "    nn.Conv2d(1, 4, 4, padding=2), #(100,4,29,29)\n",
    "    nn.ReLU(),\n",
    "    nn.Conv2d(4, 32, 4), #(100,32,26,26)\n",
    ")\n",
    "\n",
    "model(X).shape"
   ]
  },
  {
   "cell_type": "markdown",
   "metadata": {},
   "source": [
    "## 3.7 Problem #7"
   ]
  },
  {
   "cell_type": "code",
   "execution_count": 28,
   "metadata": {},
   "outputs": [],
   "source": [
    "X = torch.rand(100, 1, 28, 28)\n",
    "Y = torch.rand(100, 64, 19, 19)"
   ]
  },
  {
   "cell_type": "code",
   "execution_count": 16,
   "metadata": {
    "scrolled": false
   },
   "outputs": [
    {
     "data": {
      "text/plain": [
       "torch.Size([100, 64, 19, 19])"
      ]
     },
     "execution_count": 16,
     "metadata": {},
     "output_type": "execute_result"
    }
   ],
   "source": [
    "model = nn.Sequential(\n",
    "    nn.Conv2d(1, 4, 4), #(100,4,25,25)\n",
    "    nn.ReLU(),\n",
    "    nn.Conv2d(4, 32, 4), #(100,32,22,22)\n",
    "    nn.ReLU(),\n",
    "    nn.Conv2d(32, 64, 4), #(100,64,19,19)\n",
    ")\n",
    "\n",
    "model(X).shape"
   ]
  },
  {
   "cell_type": "markdown",
   "metadata": {},
   "source": [
    "## 3.8 Problem #8"
   ]
  },
  {
   "cell_type": "code",
   "execution_count": 29,
   "metadata": {},
   "outputs": [],
   "source": [
    "X = torch.rand(100, 1, 28, 28)\n",
    "Y = torch.rand(100, 64, 8, 8)"
   ]
  },
  {
   "cell_type": "code",
   "execution_count": 31,
   "metadata": {
    "scrolled": false
   },
   "outputs": [
    {
     "data": {
      "text/plain": [
       "torch.Size([100, 64, 8, 8])"
      ]
     },
     "execution_count": 31,
     "metadata": {},
     "output_type": "execute_result"
    }
   ],
   "source": [
    "model = nn.Sequential(\n",
    "    nn.Conv2d(1, 4, 4), #(100,4,25,25)\n",
    "    nn.ReLU(),\n",
    "    nn.Conv2d(4, 32, 4, stride=2), #(100,32,11,11)\n",
    "    nn.ReLU(),\n",
    "    nn.Conv2d(32, 64, 4),  #(100,64,8,8)\n",
    ")\n",
    "\n",
    "model(X).shape"
   ]
  },
  {
   "cell_type": "markdown",
   "metadata": {},
   "source": [
    "## 3.9 Problem #9"
   ]
  },
  {
   "cell_type": "code",
   "execution_count": 32,
   "metadata": {},
   "outputs": [],
   "source": [
    "X = torch.rand(100, 1, 28, 28)\n",
    "Y = torch.rand(100, 64, 8, 8)"
   ]
  },
  {
   "cell_type": "code",
   "execution_count": 33,
   "metadata": {
    "scrolled": false
   },
   "outputs": [
    {
     "data": {
      "text/plain": [
       "torch.Size([100, 64, 8, 8])"
      ]
     },
     "execution_count": 33,
     "metadata": {},
     "output_type": "execute_result"
    }
   ],
   "source": [
    "model = nn.Sequential(\n",
    "    nn.Conv2d(1, 4, 4), # (100,4,25,25)\n",
    "    nn.ReLU(),\n",
    "    nn.Conv2d(4, 32, 4), #(100,32,22,22)\n",
    "    nn.ReLU(),\n",
    "    nn.MaxPool2d(2, 2), #(100,32,11,11)\n",
    "    nn.Conv2d(32, 64, 4), #(100,64,8,8)\n",
    ")\n",
    "\n",
    "model(X).shape"
   ]
  },
  {
   "cell_type": "markdown",
   "metadata": {},
   "source": [
    "## 3.10 Problem #10"
   ]
  },
  {
   "cell_type": "code",
   "execution_count": 34,
   "metadata": {},
   "outputs": [],
   "source": [
    "X = torch.rand(100, 1, 28, 28)\n",
    "Y = torch.rand(100, 64, 3, 3)"
   ]
  },
  {
   "cell_type": "code",
   "execution_count": 35,
   "metadata": {
    "scrolled": false
   },
   "outputs": [
    {
     "data": {
      "text/plain": [
       "torch.Size([100, 64, 3, 3])"
      ]
     },
     "execution_count": 35,
     "metadata": {},
     "output_type": "execute_result"
    }
   ],
   "source": [
    "model = nn.Sequential(\n",
    "    nn.Conv2d(1, 16, 5), #(100,16,24,24)\n",
    "    nn.ReLU(),\n",
    "    nn.Conv2d(16, 32, 5), #(100,32,20,20)\n",
    "    nn.ReLU(),\n",
    "    nn.MaxPool2d(2, 2), #(100,32,10,10)\n",
    "    nn.Conv2d(32, 64, 5), #(100,64,6,6)\n",
    "    nn.ReLU(), \n",
    "    nn.MaxPool2d(2, 2) #(100,64,3,3)\n",
    ")\n",
    "\n",
    "model(X).shape"
   ]
  },
  {
   "cell_type": "markdown",
   "metadata": {},
   "source": [
    "## 3.11 Bonus"
   ]
  },
  {
   "cell_type": "markdown",
   "metadata": {},
   "source": [
    "#### cnn에서 bias는 Feature map의 모든 원소에 그 값을 더해준다. (채널이 여러개면 bias도 여러개)"
   ]
  },
  {
   "cell_type": "code",
   "execution_count": 43,
   "metadata": {},
   "outputs": [],
   "source": [
    "# 다음 Conv Layer에는 얼마나 몇 개의 Weight과 Bias가 있는가?\n",
    "a = nn.Conv2d(1, 4, 4)"
   ]
  },
  {
   "cell_type": "markdown",
   "metadata": {},
   "source": [
    "#### Conv2d.weight 형태: (출력채널수, 입력채널수, 필터w, 필터h)"
   ]
  },
  {
   "cell_type": "code",
   "execution_count": 44,
   "metadata": {},
   "outputs": [
    {
     "data": {
      "text/plain": [
       "(torch.Size([4, 1, 4, 4]), torch.Size([4]))"
      ]
     },
     "execution_count": 44,
     "metadata": {},
     "output_type": "execute_result"
    }
   ],
   "source": [
    "a.weight.shape, a.bias.shape "
   ]
  }
 ],
 "metadata": {
  "kernelspec": {
   "display_name": "Python 3 (ipykernel)",
   "language": "python",
   "name": "python3"
  },
  "language_info": {
   "codemirror_mode": {
    "name": "ipython",
    "version": 3
   },
   "file_extension": ".py",
   "mimetype": "text/x-python",
   "name": "python",
   "nbconvert_exporter": "python",
   "pygments_lexer": "ipython3",
   "version": "3.9.7"
  }
 },
 "nbformat": 4,
 "nbformat_minor": 2
}
