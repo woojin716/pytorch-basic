{
 "cells": [
  {
   "cell_type": "code",
   "execution_count": 64,
   "metadata": {},
   "outputs": [],
   "source": [
    "import torch\n",
    "import torch.optim as optim\n",
    "import numpy as np"
   ]
  },
  {
   "cell_type": "code",
   "execution_count": 65,
   "metadata": {},
   "outputs": [
    {
     "data": {
      "text/plain": [
       "<torch._C.Generator at 0x7fd1c03b9710>"
      ]
     },
     "execution_count": 65,
     "metadata": {},
     "output_type": "execute_result"
    }
   ],
   "source": [
    "# Random seed to make results deterministic and reproducible\n",
    "torch.manual_seed(0)"
   ]
  },
  {
   "cell_type": "code",
   "execution_count": 66,
   "metadata": {},
   "outputs": [],
   "source": [
    "sample = \" if you want you\""
   ]
  },
  {
   "cell_type": "code",
   "execution_count": 67,
   "metadata": {},
   "outputs": [
    {
     "name": "stdout",
     "output_type": "stream",
     "text": [
      "{'t': 0, 'i': 1, 'o': 2, 'n': 3, 'y': 4, ' ': 5, 'u': 6, 'w': 7, 'f': 8, 'a': 9}\n"
     ]
    }
   ],
   "source": [
    "# make dictionary of sample\n",
    "char_set = list(set(sample))\n",
    "char_dic = {c: i for i, c in enumerate(char_set)}\n",
    "print(char_dic)"
   ]
  },
  {
   "cell_type": "code",
   "execution_count": 68,
   "metadata": {},
   "outputs": [],
   "source": [
    "# hyper parameters\n",
    "dic_size = len(char_dic) #10\n",
    "hidden_size = len(char_dic) #10\n",
    "learning_rate = 0.1"
   ]
  },
  {
   "cell_type": "code",
   "execution_count": 69,
   "metadata": {},
   "outputs": [],
   "source": [
    "# data setting\n",
    "sample_idx = [char_dic[c] for c in sample]  #[5, 1, 8, 5, 4, 2, 6, 5, 7, 9, 3, 0, 5, 4, 2, 6]\n",
    "x_data = [sample_idx[:-1]] #마지막 원소 제외하고, [[...]] 차원 증가\n",
    "x_one_hot = [np.eye(dic_size)[x] for x in x_data] #sample_idx 순서대로 대응되는 원핫 인코딩 벡터 집합\n",
    "y_data = [sample_idx[1:]] #공백 자르고 차원 증가"
   ]
  },
  {
   "cell_type": "code",
   "execution_count": 70,
   "metadata": {},
   "outputs": [
    {
     "name": "stdout",
     "output_type": "stream",
     "text": [
      "[array([[0., 0., 0., 0., 0., 1., 0., 0., 0., 0.],\n",
      "       [0., 1., 0., 0., 0., 0., 0., 0., 0., 0.],\n",
      "       [0., 0., 0., 0., 0., 0., 0., 0., 1., 0.],\n",
      "       [0., 0., 0., 0., 0., 1., 0., 0., 0., 0.],\n",
      "       [0., 0., 0., 0., 1., 0., 0., 0., 0., 0.],\n",
      "       [0., 0., 1., 0., 0., 0., 0., 0., 0., 0.],\n",
      "       [0., 0., 0., 0., 0., 0., 1., 0., 0., 0.],\n",
      "       [0., 0., 0., 0., 0., 1., 0., 0., 0., 0.],\n",
      "       [0., 0., 0., 0., 0., 0., 0., 1., 0., 0.],\n",
      "       [0., 0., 0., 0., 0., 0., 0., 0., 0., 1.],\n",
      "       [0., 0., 0., 1., 0., 0., 0., 0., 0., 0.],\n",
      "       [1., 0., 0., 0., 0., 0., 0., 0., 0., 0.],\n",
      "       [0., 0., 0., 0., 0., 1., 0., 0., 0., 0.],\n",
      "       [0., 0., 0., 0., 1., 0., 0., 0., 0., 0.],\n",
      "       [0., 0., 1., 0., 0., 0., 0., 0., 0., 0.]])]\n"
     ]
    }
   ],
   "source": [
    "print(x_one_hot) # input vector"
   ]
  },
  {
   "cell_type": "code",
   "execution_count": 71,
   "metadata": {},
   "outputs": [
    {
     "name": "stdout",
     "output_type": "stream",
     "text": [
      "[[1, 8, 5, 4, 2, 6, 5, 7, 9, 3, 0, 5, 4, 2, 6]]\n"
     ]
    }
   ],
   "source": [
    "print(y_data)"
   ]
  },
  {
   "cell_type": "code",
   "execution_count": 72,
   "metadata": {},
   "outputs": [],
   "source": [
    "# transform as torch tensor variable\n",
    "X = torch.FloatTensor(x_one_hot)\n",
    "Y = torch.LongTensor(y_data)"
   ]
  },
  {
   "cell_type": "code",
   "execution_count": 73,
   "metadata": {},
   "outputs": [
    {
     "name": "stdout",
     "output_type": "stream",
     "text": [
      "tensor([1, 8, 5, 4, 2, 6, 5, 7, 9, 3, 0, 5, 4, 2, 6])\n"
     ]
    }
   ],
   "source": [
    "print(Y.view(-1))"
   ]
  },
  {
   "cell_type": "code",
   "execution_count": 74,
   "metadata": {},
   "outputs": [],
   "source": [
    "# declare RNN\n",
    "rnn = torch.nn.RNN(dic_size, hidden_size, batch_first=True)"
   ]
  },
  {
   "cell_type": "code",
   "execution_count": 75,
   "metadata": {},
   "outputs": [],
   "source": [
    "# loss & optimizer setting\n",
    "criterion = torch.nn.CrossEntropyLoss()\n",
    "optimizer = optim.Adam(rnn.parameters(), learning_rate)"
   ]
  },
  {
   "cell_type": "code",
   "execution_count": 76,
   "metadata": {
    "scrolled": true
   },
   "outputs": [
    {
     "name": "stdout",
     "output_type": "stream",
     "text": [
      "0 loss:  2.3198115825653076 prediction:  [[7 0 8 7 7 8 5 7 0 0 7 5 7 7 8]] true Y:  [[1, 8, 5, 4, 2, 6, 5, 7, 9, 3, 0, 5, 4, 2, 6]] prediction str:  wtfwwf wttw wwf\n",
      "1 loss:  2.0635344982147217 prediction:  [[7 5 5 5 5 5 5 7 6 5 5 5 5 5 5]] true Y:  [[1, 8, 5, 4, 2, 6, 5, 7, 9, 3, 0, 5, 4, 2, 6]] prediction str:  w      wu      \n",
      "2 loss:  1.8523945808410645 prediction:  [[4 6 5 4 5 6 5 7 4 5 2 5 7 6 5]] true Y:  [[1, 8, 5, 4, 2, 6, 5, 7, 9, 3, 0, 5, 4, 2, 6]] prediction str:  yu y u wy o wu \n",
      "3 loss:  1.6916230916976929 prediction:  [[4 6 5 4 2 6 5 7 4 3 0 5 4 2 5]] true Y:  [[1, 8, 5, 4, 2, 6, 5, 7, 9, 3, 0, 5, 4, 2, 6]] prediction str:  yu you wynt yo \n",
      "4 loss:  1.537466287612915 prediction:  [[4 2 5 4 2 6 5 7 9 1 0 5 4 2 6]] true Y:  [[1, 8, 5, 4, 2, 6, 5, 7, 9, 3, 0, 5, 4, 2, 6]] prediction str:  yo you wait you\n",
      "5 loss:  1.4321811199188232 prediction:  [[4 8 5 4 2 6 5 7 9 3 0 5 4 2 6]] true Y:  [[1, 8, 5, 4, 2, 6, 5, 7, 9, 3, 0, 5, 4, 2, 6]] prediction str:  yf you want you\n",
      "6 loss:  1.3470041751861572 prediction:  [[4 8 5 4 2 6 2 7 9 3 0 5 4 2 6]] true Y:  [[1, 8, 5, 4, 2, 6, 5, 7, 9, 3, 0, 5, 4, 2, 6]] prediction str:  yf youowant you\n",
      "7 loss:  1.2662107944488525 prediction:  [[1 8 5 4 2 6 2 7 9 3 0 5 4 2 6]] true Y:  [[1, 8, 5, 4, 2, 6, 5, 7, 9, 3, 0, 5, 4, 2, 6]] prediction str:  if youowant you\n",
      "8 loss:  1.197000503540039 prediction:  [[1 8 5 4 2 6 2 7 9 3 0 5 4 2 6]] true Y:  [[1, 8, 5, 4, 2, 6, 5, 7, 9, 3, 0, 5, 4, 2, 6]] prediction str:  if youowant you\n",
      "9 loss:  1.144555687904358 prediction:  [[1 8 5 4 2 6 2 7 9 3 0 5 4 2 6]] true Y:  [[1, 8, 5, 4, 2, 6, 5, 7, 9, 3, 0, 5, 4, 2, 6]] prediction str:  if youowant you\n",
      "10 loss:  1.0923534631729126 prediction:  [[1 8 5 4 2 6 2 7 9 3 0 5 4 2 6]] true Y:  [[1, 8, 5, 4, 2, 6, 5, 7, 9, 3, 0, 5, 4, 2, 6]] prediction str:  if youowant you\n",
      "11 loss:  1.0521893501281738 prediction:  [[1 8 5 4 2 6 2 7 9 3 0 5 4 2 6]] true Y:  [[1, 8, 5, 4, 2, 6, 5, 7, 9, 3, 0, 5, 4, 2, 6]] prediction str:  if youowant you\n",
      "12 loss:  1.0161513090133667 prediction:  [[1 8 5 4 2 6 2 7 9 3 0 5 4 2 6]] true Y:  [[1, 8, 5, 4, 2, 6, 5, 7, 9, 3, 0, 5, 4, 2, 6]] prediction str:  if youowant you\n",
      "13 loss:  0.9851179718971252 prediction:  [[1 8 5 4 2 6 2 7 9 3 0 5 4 2 6]] true Y:  [[1, 8, 5, 4, 2, 6, 5, 7, 9, 3, 0, 5, 4, 2, 6]] prediction str:  if youowant you\n",
      "14 loss:  0.9578376412391663 prediction:  [[1 8 5 4 2 6 2 7 9 3 0 5 4 2 6]] true Y:  [[1, 8, 5, 4, 2, 6, 5, 7, 9, 3, 0, 5, 4, 2, 6]] prediction str:  if youowant you\n",
      "15 loss:  0.9330328702926636 prediction:  [[1 8 5 4 2 6 2 7 9 3 0 5 4 2 6]] true Y:  [[1, 8, 5, 4, 2, 6, 5, 7, 9, 3, 0, 5, 4, 2, 6]] prediction str:  if youowant you\n",
      "16 loss:  0.9141734838485718 prediction:  [[1 8 5 4 2 6 2 7 9 3 0 5 4 2 6]] true Y:  [[1, 8, 5, 4, 2, 6, 5, 7, 9, 3, 0, 5, 4, 2, 6]] prediction str:  if youowant you\n",
      "17 loss:  0.8995274901390076 prediction:  [[1 8 5 4 2 6 2 7 9 3 0 5 4 2 6]] true Y:  [[1, 8, 5, 4, 2, 6, 5, 7, 9, 3, 0, 5, 4, 2, 6]] prediction str:  if youowant you\n",
      "18 loss:  0.8879097104072571 prediction:  [[1 8 5 4 2 6 2 7 9 3 0 5 4 2 6]] true Y:  [[1, 8, 5, 4, 2, 6, 5, 7, 9, 3, 0, 5, 4, 2, 6]] prediction str:  if youowant you\n",
      "19 loss:  0.8776084184646606 prediction:  [[1 8 5 4 2 6 5 7 9 3 0 5 4 2 6]] true Y:  [[1, 8, 5, 4, 2, 6, 5, 7, 9, 3, 0, 5, 4, 2, 6]] prediction str:  if you want you\n",
      "20 loss:  0.8686789274215698 prediction:  [[1 8 5 4 2 6 5 7 9 3 0 5 4 2 6]] true Y:  [[1, 8, 5, 4, 2, 6, 5, 7, 9, 3, 0, 5, 4, 2, 6]] prediction str:  if you want you\n",
      "21 loss:  0.8615257143974304 prediction:  [[1 8 5 4 2 6 5 7 9 3 0 5 4 2 6]] true Y:  [[1, 8, 5, 4, 2, 6, 5, 7, 9, 3, 0, 5, 4, 2, 6]] prediction str:  if you want you\n",
      "22 loss:  0.85591721534729 prediction:  [[1 8 5 4 2 6 5 7 9 3 0 5 4 2 6]] true Y:  [[1, 8, 5, 4, 2, 6, 5, 7, 9, 3, 0, 5, 4, 2, 6]] prediction str:  if you want you\n",
      "23 loss:  0.8514124751091003 prediction:  [[1 8 5 4 2 6 5 7 9 3 0 5 4 2 6]] true Y:  [[1, 8, 5, 4, 2, 6, 5, 7, 9, 3, 0, 5, 4, 2, 6]] prediction str:  if you want you\n",
      "24 loss:  0.8476444482803345 prediction:  [[1 8 5 4 2 6 5 7 9 3 0 5 4 2 6]] true Y:  [[1, 8, 5, 4, 2, 6, 5, 7, 9, 3, 0, 5, 4, 2, 6]] prediction str:  if you want you\n",
      "25 loss:  0.8443742394447327 prediction:  [[1 8 5 4 2 6 5 7 9 3 0 5 4 2 6]] true Y:  [[1, 8, 5, 4, 2, 6, 5, 7, 9, 3, 0, 5, 4, 2, 6]] prediction str:  if you want you\n",
      "26 loss:  0.8414703607559204 prediction:  [[1 8 5 4 2 6 5 7 9 3 0 5 4 2 6]] true Y:  [[1, 8, 5, 4, 2, 6, 5, 7, 9, 3, 0, 5, 4, 2, 6]] prediction str:  if you want you\n",
      "27 loss:  0.8388648629188538 prediction:  [[1 8 5 4 2 6 5 7 9 3 0 5 4 2 6]] true Y:  [[1, 8, 5, 4, 2, 6, 5, 7, 9, 3, 0, 5, 4, 2, 6]] prediction str:  if you want you\n",
      "28 loss:  0.8365088105201721 prediction:  [[1 8 5 4 2 6 5 7 9 3 0 5 4 2 6]] true Y:  [[1, 8, 5, 4, 2, 6, 5, 7, 9, 3, 0, 5, 4, 2, 6]] prediction str:  if you want you\n",
      "29 loss:  0.8343425989151001 prediction:  [[1 8 5 4 2 6 5 7 9 3 0 5 4 2 6]] true Y:  [[1, 8, 5, 4, 2, 6, 5, 7, 9, 3, 0, 5, 4, 2, 6]] prediction str:  if you want you\n",
      "30 loss:  0.8322885036468506 prediction:  [[1 8 5 4 2 6 5 7 9 3 0 5 4 2 6]] true Y:  [[1, 8, 5, 4, 2, 6, 5, 7, 9, 3, 0, 5, 4, 2, 6]] prediction str:  if you want you\n",
      "31 loss:  0.830288290977478 prediction:  [[1 8 5 4 2 6 5 7 9 3 0 5 4 2 6]] true Y:  [[1, 8, 5, 4, 2, 6, 5, 7, 9, 3, 0, 5, 4, 2, 6]] prediction str:  if you want you\n",
      "32 loss:  0.8284990191459656 prediction:  [[1 8 5 4 2 6 5 7 9 3 0 5 4 2 6]] true Y:  [[1, 8, 5, 4, 2, 6, 5, 7, 9, 3, 0, 5, 4, 2, 6]] prediction str:  if you want you\n",
      "33 loss:  0.8275520205497742 prediction:  [[1 8 5 4 2 6 5 7 9 3 0 5 4 2 6]] true Y:  [[1, 8, 5, 4, 2, 6, 5, 7, 9, 3, 0, 5, 4, 2, 6]] prediction str:  if you want you\n",
      "34 loss:  0.8263949155807495 prediction:  [[1 8 5 4 2 6 5 7 9 3 0 5 4 2 6]] true Y:  [[1, 8, 5, 4, 2, 6, 5, 7, 9, 3, 0, 5, 4, 2, 6]] prediction str:  if you want you\n",
      "35 loss:  0.8240975737571716 prediction:  [[1 8 5 4 2 6 5 7 9 3 0 5 4 2 6]] true Y:  [[1, 8, 5, 4, 2, 6, 5, 7, 9, 3, 0, 5, 4, 2, 6]] prediction str:  if you want you\n",
      "36 loss:  0.8232083916664124 prediction:  [[1 8 5 4 2 6 5 7 9 3 0 5 4 2 6]] true Y:  [[1, 8, 5, 4, 2, 6, 5, 7, 9, 3, 0, 5, 4, 2, 6]] prediction str:  if you want you\n",
      "37 loss:  0.8227955102920532 prediction:  [[1 8 5 4 2 6 5 7 9 3 0 5 4 2 6]] true Y:  [[1, 8, 5, 4, 2, 6, 5, 7, 9, 3, 0, 5, 4, 2, 6]] prediction str:  if you want you\n",
      "38 loss:  0.8220414519309998 prediction:  [[1 8 5 4 2 6 5 7 9 3 0 5 4 2 6]] true Y:  [[1, 8, 5, 4, 2, 6, 5, 7, 9, 3, 0, 5, 4, 2, 6]] prediction str:  if you want you\n",
      "39 loss:  0.8211715817451477 prediction:  [[1 8 5 4 2 6 5 7 9 3 0 5 4 2 6]] true Y:  [[1, 8, 5, 4, 2, 6, 5, 7, 9, 3, 0, 5, 4, 2, 6]] prediction str:  if you want you\n",
      "40 loss:  0.8208886981010437 prediction:  [[1 8 5 4 2 6 5 7 9 3 0 5 4 2 6]] true Y:  [[1, 8, 5, 4, 2, 6, 5, 7, 9, 3, 0, 5, 4, 2, 6]] prediction str:  if you want you\n",
      "41 loss:  0.8202878832817078 prediction:  [[1 8 5 4 2 6 5 7 9 3 0 5 4 2 6]] true Y:  [[1, 8, 5, 4, 2, 6, 5, 7, 9, 3, 0, 5, 4, 2, 6]] prediction str:  if you want you\n",
      "42 loss:  0.8191797733306885 prediction:  [[1 8 5 4 2 6 5 7 9 3 0 5 4 2 6]] true Y:  [[1, 8, 5, 4, 2, 6, 5, 7, 9, 3, 0, 5, 4, 2, 6]] prediction str:  if you want you\n",
      "43 loss:  0.818714439868927 prediction:  [[1 8 5 4 2 6 5 7 9 3 0 5 4 2 6]] true Y:  [[1, 8, 5, 4, 2, 6, 5, 7, 9, 3, 0, 5, 4, 2, 6]] prediction str:  if you want you\n",
      "44 loss:  0.8183068037033081 prediction:  [[1 8 5 4 2 6 5 7 9 3 0 5 4 2 6]] true Y:  [[1, 8, 5, 4, 2, 6, 5, 7, 9, 3, 0, 5, 4, 2, 6]] prediction str:  if you want you\n",
      "45 loss:  0.8176866173744202 prediction:  [[1 8 5 4 2 6 5 7 9 3 0 5 4 2 6]] true Y:  [[1, 8, 5, 4, 2, 6, 5, 7, 9, 3, 0, 5, 4, 2, 6]] prediction str:  if you want you\n",
      "46 loss:  0.8173090219497681 prediction:  [[1 8 5 4 2 6 5 7 9 3 0 5 4 2 6]] true Y:  [[1, 8, 5, 4, 2, 6, 5, 7, 9, 3, 0, 5, 4, 2, 6]] prediction str:  if you want you\n",
      "47 loss:  0.8171460032463074 prediction:  [[1 8 5 4 2 6 5 7 9 3 0 5 4 2 6]] true Y:  [[1, 8, 5, 4, 2, 6, 5, 7, 9, 3, 0, 5, 4, 2, 6]] prediction str:  if you want you\n",
      "48 loss:  0.8165498971939087 prediction:  [[1 8 5 4 2 6 5 7 9 3 0 5 4 2 6]] true Y:  [[1, 8, 5, 4, 2, 6, 5, 7, 9, 3, 0, 5, 4, 2, 6]] prediction str:  if you want you\n",
      "49 loss:  0.8161894083023071 prediction:  [[1 8 5 4 2 6 5 7 9 3 0 5 4 2 6]] true Y:  [[1, 8, 5, 4, 2, 6, 5, 7, 9, 3, 0, 5, 4, 2, 6]] prediction str:  if you want you\n"
     ]
    }
   ],
   "source": [
    "# start training\n",
    "for i in range(50):\n",
    "    optimizer.zero_grad()\n",
    "    outputs, _status = rnn(X)\n",
    "    loss = criterion(outputs.view(-1, dic_size), Y.view(-1))\n",
    "    loss.backward()\n",
    "    optimizer.step()\n",
    "    #outputs.data.numpy()은 (50, 15, 10) 사이즈\n",
    "    result = outputs.data.numpy().argmax(axis=2)  #outputs는 모든 은닉상태 출력 -> 행마다(10개 원소) 비교해서 최대값인 인덱스 저장\n",
    "    result_str = ''.join([char_set[c] for c in np.squeeze(result)]) #대응되는 문자로 바꿔주고 문자열로 저장\n",
    "    print(i, \"loss: \", loss.item(), \"prediction: \", result, \"true Y: \", y_data, \"prediction str: \", result_str)"
   ]
  },
  {
   "cell_type": "code",
   "execution_count": 61,
   "metadata": {},
   "outputs": [
    {
     "name": "stdout",
     "output_type": "stream",
     "text": [
      "[[[ 0  1  2]\n",
      "  [ 3  4  5]\n",
      "  [ 6  7  8]\n",
      "  [ 9 10 11]]\n",
      "\n",
      " [[12 13 14]\n",
      "  [15 16 17]\n",
      "  [18 19 20]\n",
      "  [21 22 23]]\n",
      "\n",
      " [[24 25 26]\n",
      "  [27 28 29]\n",
      "  [30 31 32]\n",
      "  [33 34 35]]]\n",
      "(3, 4, 3)\n",
      "(3, 4)\n"
     ]
    },
    {
     "data": {
      "text/plain": [
       "array([[  3,  12,  21,  30],\n",
       "       [ 39,  48,  57,  66],\n",
       "       [ 75,  84,  93, 102]])"
      ]
     },
     "execution_count": 61,
     "metadata": {},
     "output_type": "execute_result"
    }
   ],
   "source": [
    "#3차원 배열 axis 헷갈려서 정리\n",
    "a = np.arange(36).reshape(3,4,3)\n",
    "print(a)\n",
    "print(a.shape)\n",
    "print(np.sum(a, axis=2).shape) #원래 행렬 shape에서 해당 axis만 뺀 것이 shape이 됨\n",
    "np.sum(a, axis=2)"
   ]
  }
 ],
 "metadata": {
  "kernelspec": {
   "display_name": "Python 3 (ipykernel)",
   "language": "python",
   "name": "python3"
  },
  "language_info": {
   "codemirror_mode": {
    "name": "ipython",
    "version": 3
   },
   "file_extension": ".py",
   "mimetype": "text/x-python",
   "name": "python",
   "nbconvert_exporter": "python",
   "pygments_lexer": "ipython3",
   "version": "3.9.7"
  }
 },
 "nbformat": 4,
 "nbformat_minor": 2
}
